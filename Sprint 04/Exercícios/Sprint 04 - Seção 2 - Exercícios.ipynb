{
 "cells": [
  {
   "cell_type": "code",
   "execution_count": null,
   "id": "2ac296ad-3e78-4116-acfd-dcefc407c1c8",
   "metadata": {},
   "outputs": [],
   "source": [
    "## Exercício de programação 1: E01\n",
    "\n",
    "with open('number.txt', 'r') as file:\n",
    "    # Ler os números do arquivo e convertê-los para inteiros\n",
    "    numeros = list(map(int, file.readlines()))\n",
    "\n",
    "# Filtrar os números pares\n",
    "numeros_pares = filter(lambda x: x % 2 == 0, numeros)\n",
    "\n",
    "# Ordenar os números pares em ordem decrescente\n",
    "pares_ordenados = sorted(numeros_pares, reverse=True)\n",
    "\n",
    "# Selecionar os 5 maiores números pares\n",
    "top_5_pares = pares_ordenados[:5]\n",
    "\n",
    "# Calcular a soma dos 5 maiores números pares\n",
    "soma_top_5 = sum(top_5_pares)\n",
    "\n",
    "# Exibir os resultados no formato correto\n",
    "print(top_5_pares)\n",
    "print(soma_top_5)"
   ]
  },
  {
   "cell_type": "code",
   "execution_count": 1,
   "id": "e0f73ea6-d405-4485-ac84-48c4a488f374",
   "metadata": {},
   "outputs": [
    {
     "name": "stdout",
     "output_type": "stream",
     "text": [
      "3\n",
      "3\n"
     ]
    }
   ],
   "source": [
    "## Exercício de programação 2: E02\n",
    "\n",
    "def conta_vogais(texto:str)-> int:\n",
    "    # Usar filter com lambda para filtrar apenas as vogais\n",
    "    vogais = filter(lambda char: char.lower() in 'aeiou', texto)\n",
    "    # Usar len para contar o número de vogais filtradas\n",
    "    return len(list(vogais))\n",
    "\n",
    "# Teste\n",
    "print(conta_vogais(\"hello world\"))  # Saída: 3 (vogais: 'e', 'o', 'o')\n",
    "print(conta_vogais(\"programming\"))  # Saída: 3 (vogais: 'o', 'a', 'i')"
   ]
  },
  {
   "cell_type": "code",
   "execution_count": 2,
   "id": "568b53f8-4caf-40ad-86bd-41c32db0eb0e",
   "metadata": {},
   "outputs": [
    {
     "name": "stdout",
     "output_type": "stream",
     "text": [
      "200\n"
     ]
    }
   ],
   "source": [
    "## Exercício de programação 3: E03\n",
    "\n",
    "def calcula_saldo(lancamentos) -> float:\n",
    "    #continue este código\n",
    "    valores = map(lambda x: x[0] if x[1] == 'C' else -x[0], lancamentos)\n",
    "    \n",
    "    # Reduzir a lista de valores para calcular o saldo final\n",
    "    saldo = reduce(lambda acc, x: acc + x, valores)\n",
    "    \n",
    "    return saldo\n",
    "\n",
    "from functools import reduce\n",
    "\n",
    "# Teste\n",
    "lancamentos = [\n",
    "    (200, 'D'),\n",
    "    (300, 'C'),\n",
    "    (100, 'C')\n",
    "]\n",
    "print(calcula_saldo(lancamentos))"
   ]
  },
  {
   "cell_type": "code",
   "execution_count": 3,
   "id": "3d51c6b5-f40a-4001-ab6a-b2e8e799cfea",
   "metadata": {},
   "outputs": [
    {
     "name": "stdout",
     "output_type": "stream",
     "text": [
      "12\n"
     ]
    }
   ],
   "source": [
    "## Exercício de programação 4: E04\n",
    "\n",
    "def calcular_valor_maximo(operadores,operandos) -> float:\n",
    "    # Combinar operadores e operandos usando zip\n",
    "    combinados = zip(operadores, operandos)\n",
    "    \n",
    "    # Mapear cada par (operador, operando) para o resultado da operação\n",
    "    resultados = map(lambda x: eval(f\"{x[1][0]}{x[0]}{x[1][1]}\"), combinados)\n",
    "    \n",
    "    # Retornar o maior valor usando max\n",
    "    return max(resultados)\n",
    "\n",
    "# Teste\n",
    "operadores = ['+', '-', '*', '/', '+']\n",
    "operandos = [(3, 6), (-7, 4.9), (8, -8), (10, 2), (8, 4)]\n",
    "\n",
    "print(calcular_valor_maximo(operadores, operandos))"
   ]
  },
  {
   "cell_type": "code",
   "execution_count": 5,
   "id": "9f5939b4-e0e1-4323-9973-cb5c7ad2ab86",
   "metadata": {},
   "outputs": [
    {
     "ename": "FileNotFoundError",
     "evalue": "[Errno 2] No such file or directory: 'estudantes.csv'",
     "output_type": "error",
     "traceback": [
      "\u001b[1;31m---------------------------------------------------------------------------\u001b[0m",
      "\u001b[1;31mFileNotFoundError\u001b[0m                         Traceback (most recent call last)",
      "Cell \u001b[1;32mIn[5], line 4\u001b[0m\n\u001b[0;32m      1\u001b[0m \u001b[38;5;66;03m## Exercício de programação 5: E05\u001b[39;00m\n\u001b[0;32m      2\u001b[0m \n\u001b[0;32m      3\u001b[0m \u001b[38;5;66;03m# Abrir o arquivo estudantes.csv\u001b[39;00m\n\u001b[1;32m----> 4\u001b[0m \u001b[38;5;28;01mwith\u001b[39;00m \u001b[38;5;28;43mopen\u001b[39;49m\u001b[43m(\u001b[49m\u001b[38;5;124;43m'\u001b[39;49m\u001b[38;5;124;43mestudantes.csv\u001b[39;49m\u001b[38;5;124;43m'\u001b[39;49m\u001b[43m,\u001b[49m\u001b[43m \u001b[49m\u001b[38;5;124;43m'\u001b[39;49m\u001b[38;5;124;43mr\u001b[39;49m\u001b[38;5;124;43m'\u001b[39;49m\u001b[43m,\u001b[49m\u001b[43m \u001b[49m\u001b[43mencoding\u001b[49m\u001b[38;5;241;43m=\u001b[39;49m\u001b[38;5;124;43m'\u001b[39;49m\u001b[38;5;124;43mutf-8\u001b[39;49m\u001b[38;5;124;43m'\u001b[39;49m\u001b[43m)\u001b[49m \u001b[38;5;28;01mas\u001b[39;00m file:\n\u001b[0;32m      5\u001b[0m     \u001b[38;5;66;03m# Ler todas as linhas do arquivo\u001b[39;00m\n\u001b[0;32m      6\u001b[0m     linhas \u001b[38;5;241m=\u001b[39m file\u001b[38;5;241m.\u001b[39mreadlines()\n\u001b[0;32m      8\u001b[0m \u001b[38;5;66;03m# Processar cada linha do arquivo\u001b[39;00m\n",
      "File \u001b[1;32m~\\AppData\\Local\\Programs\\Python\\Python313\\Lib\\site-packages\\IPython\\core\\interactiveshell.py:324\u001b[0m, in \u001b[0;36m_modified_open\u001b[1;34m(file, *args, **kwargs)\u001b[0m\n\u001b[0;32m    317\u001b[0m \u001b[38;5;28;01mif\u001b[39;00m file \u001b[38;5;129;01min\u001b[39;00m {\u001b[38;5;241m0\u001b[39m, \u001b[38;5;241m1\u001b[39m, \u001b[38;5;241m2\u001b[39m}:\n\u001b[0;32m    318\u001b[0m     \u001b[38;5;28;01mraise\u001b[39;00m \u001b[38;5;167;01mValueError\u001b[39;00m(\n\u001b[0;32m    319\u001b[0m         \u001b[38;5;124mf\u001b[39m\u001b[38;5;124m\"\u001b[39m\u001b[38;5;124mIPython won\u001b[39m\u001b[38;5;124m'\u001b[39m\u001b[38;5;124mt let you open fd=\u001b[39m\u001b[38;5;132;01m{\u001b[39;00mfile\u001b[38;5;132;01m}\u001b[39;00m\u001b[38;5;124m by default \u001b[39m\u001b[38;5;124m\"\u001b[39m\n\u001b[0;32m    320\u001b[0m         \u001b[38;5;124m\"\u001b[39m\u001b[38;5;124mas it is likely to crash IPython. If you know what you are doing, \u001b[39m\u001b[38;5;124m\"\u001b[39m\n\u001b[0;32m    321\u001b[0m         \u001b[38;5;124m\"\u001b[39m\u001b[38;5;124myou can use builtins\u001b[39m\u001b[38;5;124m'\u001b[39m\u001b[38;5;124m open.\u001b[39m\u001b[38;5;124m\"\u001b[39m\n\u001b[0;32m    322\u001b[0m     )\n\u001b[1;32m--> 324\u001b[0m \u001b[38;5;28;01mreturn\u001b[39;00m \u001b[43mio_open\u001b[49m\u001b[43m(\u001b[49m\u001b[43mfile\u001b[49m\u001b[43m,\u001b[49m\u001b[43m \u001b[49m\u001b[38;5;241;43m*\u001b[39;49m\u001b[43margs\u001b[49m\u001b[43m,\u001b[49m\u001b[43m \u001b[49m\u001b[38;5;241;43m*\u001b[39;49m\u001b[38;5;241;43m*\u001b[39;49m\u001b[43mkwargs\u001b[49m\u001b[43m)\u001b[49m\n",
      "\u001b[1;31mFileNotFoundError\u001b[0m: [Errno 2] No such file or directory: 'estudantes.csv'"
     ]
    }
   ],
   "source": [
    "## Exercício de programação 5: E05\n",
    "\n",
    "# Abrir o arquivo estudantes.csv\n",
    "with open('estudantes.csv', 'r', encoding='utf-8') as file:\n",
    "    # Ler todas as linhas do arquivo\n",
    "    linhas = file.readlines()\n",
    "\n",
    "# Processar cada linha do arquivo\n",
    "def processar_linha(linha):\n",
    "    # Separar o nome e as notas\n",
    "    partes = linha.strip().split(',')\n",
    "    nome = partes[0]\n",
    "    # Converter as notas para inteiros\n",
    "    notas = list(map(int, partes[1:]))\n",
    "    \n",
    "    # Selecionar as três maiores notas e calcular a média com duas casas decimais de precisão\n",
    "    tres_maiores = sorted(notas, reverse=True)[:3]\n",
    "    media_precisa = round(sum(tres_maiores) / 3, 2)  # Média com precisão de duas casas decimais\n",
    "    \n",
    "    # Retornar o nome do estudante e o resultado formatado\n",
    "    return (nome, f\"Nome: {nome} Notas: {tres_maiores} Média: {media_precisa}\")\n",
    "\n",
    "# Processar todas as linhas e ordenar pelo nome do estudante\n",
    "resultados = sorted(map(processar_linha, linhas), key=lambda x: x[0])\n",
    "\n",
    "# Exibir os resultados na saída padrão\n",
    "for _, resultado in resultados:\n",
    "    print(resultado)"
   ]
  },
  {
   "cell_type": "code",
   "execution_count": 6,
   "id": "707eb1e9-5800-4fd8-b6c4-7dfc1f48a37b",
   "metadata": {},
   "outputs": [
    {
     "name": "stdout",
     "output_type": "stream",
     "text": [
      "[('feijão', 3.49), ('arroz', 4.99)]\n"
     ]
    }
   ],
   "source": [
    "## Exercício de programação 6: E06\n",
    "\n",
    "def maiores_que_media(conteudo: dict) -> list:\n",
    "    # Calcular a média dos valores dos produtos\n",
    "    media = sum(conteudo.values()) / len(conteudo)\n",
    "    \n",
    "    # Filtrar os produtos cujo valor é maior que a média\n",
    "    produtos_filtrados = filter(lambda item: item[1] > media, conteudo.items())\n",
    "    \n",
    "    # Ordenar os produtos filtrados pelo preço em ordem crescente\n",
    "    resultado = sorted(produtos_filtrados, key=lambda item: item[1])\n",
    "    \n",
    "    # Retornar o resultado como uma lista de tuplas\n",
    "    return resultado\n",
    "\n",
    "# Teste\n",
    "conteudo = {\n",
    "    \"arroz\": 4.99,\n",
    "    \"feijão\": 3.49,\n",
    "    \"macarrão\": 2.99,\n",
    "    \"leite\": 3.29,\n",
    "    \"pão\": 1.99\n",
    "}\n",
    "\n",
    "print(maiores_que_media(conteudo))"
   ]
  },
  {
   "cell_type": "code",
   "execution_count": 7,
   "id": "50b52db9-7710-40e1-b689-5e91e281db2c",
   "metadata": {},
   "outputs": [
    {
     "name": "stdout",
     "output_type": "stream",
     "text": [
      "2\n",
      "4\n",
      "6\n",
      "8\n",
      "10\n"
     ]
    }
   ],
   "source": [
    "## Exercício de programação 7: E07\n",
    "\n",
    "def pares_ate(n: int):\n",
    "    # Usar um loop para gerar números pares no intervalo [2, n]\n",
    "    for num in range(2, n + 1, 2):\n",
    "        yield num\n",
    "\n",
    "# Teste\n",
    "for par in pares_ate(10):\n",
    "    print(par)"
   ]
  }
 ],
 "metadata": {
  "kernelspec": {
   "display_name": "Python 3 (ipykernel)",
   "language": "python",
   "name": "python3"
  },
  "language_info": {
   "codemirror_mode": {
    "name": "ipython",
    "version": 3
   },
   "file_extension": ".py",
   "mimetype": "text/x-python",
   "name": "python",
   "nbconvert_exporter": "python",
   "pygments_lexer": "ipython3",
   "version": "3.13.0"
  }
 },
 "nbformat": 4,
 "nbformat_minor": 5
}
