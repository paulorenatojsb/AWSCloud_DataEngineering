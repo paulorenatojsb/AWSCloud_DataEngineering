{
 "cells": [
  {
   "cell_type": "code",
   "execution_count": 12,
   "id": "18f00778-8148-42a7-bc0a-12de70290914",
   "metadata": {},
   "outputs": [
    {
     "name": "stdout",
     "output_type": "stream",
     "text": [
      "Arquivo encontrado!\n"
     ]
    }
   ],
   "source": [
    "# Teste para verificar se o caminho para o arquivo está correto\n",
    "\n",
    "import os\n",
    "\n",
    "file_path = r\"C:\\Users\\Administrador\\OneDrive - Smart Travel S.A\\Área de Trabalho\\Compass\\Sprint 3 - Python\\Exercicio II\\actors.csv\"\n",
    "\n",
    "# Verifca se o caminho está correto e retorna com aviso\n",
    "\n",
    "if os.path.exists(file_path):\n",
    "    print(\"Arquivo encontrado!\")\n",
    "else:\n",
    "    print(\"Arquivo não encontrado. :( \")\n"
   ]
  },
  {
   "cell_type": "code",
   "execution_count": 13,
   "id": "4d1ef1d2-3528-4b03-8c7e-25aa38b3e0a8",
   "metadata": {},
   "outputs": [
    {
     "name": "stdout",
     "output_type": "stream",
     "text": [
      "['Actor,Total Gross,Number of Movies,Average per Movie,#1 Movie,Gross\\n', 'Harrison Ford,4871.70 ,41,118.80 ,Star Wars: The Force Awakens,936.70 \\n', 'Samuel L. Jackson,4772.80 ,69,69.20 ,The Avengers,623.40 \\n', 'Morgan Freeman,4468.30 ,61,73.30 ,The Dark Knight,534.90 \\n', 'Tom Hanks,4340.80 ,44,98.70 ,Toy Story 3,415.00 \\n']\n"
     ]
    }
   ],
   "source": [
    "# Caminho do arquivo salvo localmente\n",
    "file_path = r\"C:\\Users\\Administrador\\OneDrive - Smart Travel S.A\\Área de Trabalho\\Compass\\Sprint 3 - Python\\Exercicio II\\actors.csv\"\n",
    "\n",
    "# Lendo o arquivo\n",
    "with open(file_path, 'r') as file:\n",
    "    lines = file.readlines()\n",
    "\n",
    "# Mostrando as primeiras linhas\n",
    "print(lines[:5])\n"
   ]
  },
  {
   "cell_type": "code",
   "execution_count": 14,
   "id": "7c4b25ac-894e-4ee7-a2bc-217cbdae96c5",
   "metadata": {},
   "outputs": [
    {
     "name": "stdout",
     "output_type": "stream",
     "text": [
      "ETL concluída com sucesso! ;) \n"
     ]
    }
   ],
   "source": [
    "import os\n",
    "from collections import Counter\n",
    "\n",
    "# Caminho do arquivo\n",
    "file_path = r\"C:\\Users\\Administrador\\OneDrive - Smart Travel S.A\\Área de Trabalho\\Compass\\Sprint 3 - Python\\Exercicio II\\actors.csv\"\n",
    "\n",
    "# Diretório onde os arquivos devem ser salvos\n",
    "output_dir = os.path.dirname(file_path)\n",
    "\n",
    "def load_data_correctly(file_path):\n",
    "    \"\"\"Carrega e limpa os dados do arquivo CSV, garantindo que as colunas sejam tratadas corretamente.\"\"\"\n",
    "    with open(file_path, 'r') as file:\n",
    "        lines = file.readlines()\n",
    "    \n",
    "    headers = lines[0].strip().split(',')\n",
    "    data = []\n",
    "    for line in lines[1:]:\n",
    "        # Dividir linha considerando os valores que podem conter vírgulas erradas ou espaços extras\n",
    "        parts = [part.strip() for part in line.split(',')]\n",
    "        if len(parts) == len(headers):  # Garante que há consistência nos campos\n",
    "            data.append(dict(zip(headers, parts)))\n",
    "    return data\n",
    "\n",
    "def save_to_file(filename, content):\n",
    "    \"\"\"Salva o conteúdo em um arquivo no mesmo diretório do arquivo actors.csv.\"\"\"\n",
    "    output_path = os.path.join(output_dir, filename)  # Junta o diretório com o nome do arquivo\n",
    "    with open(output_path, 'w', encoding='utf-8') as file:\n",
    "        file.write(content)\n",
    "\n",
    "# Recarregar os dados com o método atualizado\n",
    "data = load_data_correctly(file_path)\n",
    "\n",
    "# Etapa 1: Ator/atriz com maior número de filmes\n",
    "most_movies = max(data, key=lambda x: int(x['Number of Movies'].strip()))\n",
    "etapa_1_result = f\"{most_movies['Actor']} - {most_movies['Number of Movies']}\"\n",
    "\n",
    "# Salvar resultado da Etapa 1\n",
    "save_to_file('etapa-1.txt', etapa_1_result)\n",
    "\n",
    "# Etapa 2: Média de receita de bilheteria dos filmes (coluna Gross)\n",
    "gross_values = [float(row['Gross'].strip()) for row in data]\n",
    "gross_average = sum(gross_values) / len(gross_values)\n",
    "etapa_2_result = f\"{gross_average:.2f}\"\n",
    "\n",
    "# Salvar resultado da Etapa 2\n",
    "save_to_file('etapa-2.txt', etapa_2_result)\n",
    "\n",
    "# Etapa 3: Ator/atriz com maior média de receita por filme\n",
    "highest_avg = max(data, key=lambda x: float(x['Average per Movie'].strip()))\n",
    "etapa_3_result = f\"{highest_avg['Actor']} - {highest_avg['Average per Movie']}\"\n",
    "\n",
    "# Salvar resultado da Etapa 3\n",
    "save_to_file('etapa-3.txt', etapa_3_result)\n",
    "\n",
    "# Etapa 4: Contagem de aparições de filmes na coluna #1 Movie\n",
    "movies_counter = Counter(row['#1 Movie'].strip() for row in data)\n",
    "movies_sorted = sorted(movies_counter.items(), key=lambda x: (-x[1], x[0]))\n",
    "etapa_4_result = '\\n'.join([f\"O filme {movie} aparece {count} vez(es) no dataset\" for movie, count in movies_sorted])\n",
    "\n",
    "# Salvar resultado da Etapa 4\n",
    "save_to_file('etapa-4.txt', etapa_4_result)\n",
    "\n",
    "# Etapa 5: Lista de atores ordenada pela receita total bruta (Total Gross)\n",
    "actors_sorted = sorted(data, key=lambda x: float(x['Total Gross'].strip()), reverse=True)\n",
    "etapa_5_result = '\\n'.join([f\"{actor['Actor']} - {actor['Total Gross']}\" for actor in actors_sorted])\n",
    "\n",
    "# Salvar resultado da Etapa 5\n",
    "save_to_file('etapa-5.txt', etapa_5_result)\n",
    "\n",
    "# Conclusão\n",
    "print(\"ETL concluída com sucesso! ;) \")"
   ]
  },
  {
   "cell_type": "code",
   "execution_count": null,
   "id": "2df64e90-04d2-49e5-8306-342094c0f14f",
   "metadata": {},
   "outputs": [],
   "source": []
  }
 ],
 "metadata": {
  "kernelspec": {
   "display_name": "Python 3 (ipykernel)",
   "language": "python",
   "name": "python3"
  },
  "language_info": {
   "codemirror_mode": {
    "name": "ipython",
    "version": 3
   },
   "file_extension": ".py",
   "mimetype": "text/x-python",
   "name": "python",
   "nbconvert_exporter": "python",
   "pygments_lexer": "ipython3",
   "version": "3.13.0"
  }
 },
 "nbformat": 4,
 "nbformat_minor": 5
}
