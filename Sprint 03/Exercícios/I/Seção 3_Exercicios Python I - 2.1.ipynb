{
 "cells": [
  {
   "cell_type": "code",
   "execution_count": 2,
   "id": "1dc157b4-53aa-4928-8e90-20a5487edb52",
   "metadata": {},
   "outputs": [
    {
     "name": "stdout",
     "output_type": "stream",
     "text": [
      "2088\n"
     ]
    }
   ],
   "source": [
    "# Exercício de programação 1 Exercícios Parte 1\n",
    "# Definir valores diretamente no código\n",
    "nome = \"Paulo\"  # Substitua pelo nome desejado\n",
    "idade = 36  # Substitua pela idade desejada\n",
    "\n",
    "# Calcular o ano em que a pessoa completará 100 anos\n",
    "anos_para_100 = 100 - idade\n",
    "ano_100 = 2024 + anos_para_100\n",
    "\n",
    "# Imprimir o resultado\n",
    "print(ano_100)"
   ]
  },
  {
   "cell_type": "code",
   "execution_count": 3,
   "id": "432719fe-e528-4590-843a-89980cf4de92",
   "metadata": {},
   "outputs": [
    {
     "name": "stdout",
     "output_type": "stream",
     "text": [
      "Par: 2\n",
      "Ímpar: 3\n",
      "Par: 4\n"
     ]
    }
   ],
   "source": [
    "# Exercício de programação 2 Exercícios Parte 1\n",
    "# Declarar a lista 'numeros' usando a função range()\n",
    "numeros = list(range(2, 5))  # Adiciona os números 2, 3 e 4\n",
    "\n",
    "# Verificar se cada número é par ou ímpar\n",
    "for numero in numeros:\n",
    "    if numero % 2 == 0:\n",
    "        print(f\"Par: {numero}\")\n",
    "    else:\n",
    "        print(f\"Ímpar: {numero}\")"
   ]
  },
  {
   "cell_type": "code",
   "execution_count": 5,
   "id": "3b08eea5-c9e1-4e1f-88b2-ebb5ffe44198",
   "metadata": {
    "scrolled": true
   },
   "outputs": [
    {
     "name": "stdout",
     "output_type": "stream",
     "text": [
      "0\n",
      "2\n",
      "4\n",
      "6\n",
      "8\n",
      "10\n",
      "12\n",
      "14\n",
      "16\n",
      "18\n",
      "20\n"
     ]
    }
   ],
   "source": [
    "#Exercício de programação 3 Exercícios Parte 1\n",
    "# Usar range() para iterar pelos números pares de 0 a 20\n",
    "for numero in range(0, 21, 2):  # Início em 0, fim em 21 (exclusivo), passo 2\n",
    "    print(numero)"
   ]
  },
  {
   "cell_type": "code",
   "execution_count": 6,
   "id": "746db48f-1b86-4a6e-9182-98f64d40cfc2",
   "metadata": {},
   "outputs": [
    {
     "name": "stdout",
     "output_type": "stream",
     "text": [
      "2\n",
      "3\n",
      "5\n",
      "7\n",
      "11\n",
      "13\n",
      "17\n",
      "19\n",
      "23\n",
      "29\n",
      "31\n",
      "37\n",
      "41\n",
      "43\n",
      "47\n",
      "53\n",
      "59\n",
      "61\n",
      "67\n",
      "71\n",
      "73\n",
      "79\n",
      "83\n",
      "89\n",
      "97\n"
     ]
    }
   ],
   "source": [
    "# Exercício de programação 4 Exercícios Parte 1\n",
    "# Função para verificar se um número é primo\n",
    "def eh_primo(numero):\n",
    "    if numero < 2:\n",
    "        return False\n",
    "    for i in range(2, int(numero**0.5) + 1):  # Verifica divisores até a raiz quadrada de numero\n",
    "        if numero % i == 0:\n",
    "            return False\n",
    "    return True\n",
    "\n",
    "# Iterar de 1 a 100 usando range() e verificar quais são primos\n",
    "for numero in range(1, 101):  # Intervalo de 1 até 100\n",
    "    if eh_primo(numero):\n",
    "        print(numero)"
   ]
  },
  {
   "cell_type": "code",
   "execution_count": null,
   "id": "c1d4d95a-eae6-4b4a-825b-e159b1878bec",
   "metadata": {},
   "outputs": [],
   "source": [
    "# Exercício de programação 5: Exercícios Parte 1\n",
    "# Declarar as variáveis com os valores fornecidos\n",
    "dia = 22\n",
    "mes = 10\n",
    "ano = 2022\n",
    "\n",
    "# Imprimir a data no formato dia/mes/ano\n",
    "print(f\"{dia}/{mes}/{ano}\")"
   ]
  }
 ],
 "metadata": {
  "kernelspec": {
   "display_name": "Python 3 (ipykernel)",
   "language": "python",
   "name": "python3"
  },
  "language_info": {
   "codemirror_mode": {
    "name": "ipython",
    "version": 3
   },
   "file_extension": ".py",
   "mimetype": "text/x-python",
   "name": "python",
   "nbconvert_exporter": "python",
   "pygments_lexer": "ipython3",
   "version": "3.13.0"
  }
 },
 "nbformat": 4,
 "nbformat_minor": 5
}
