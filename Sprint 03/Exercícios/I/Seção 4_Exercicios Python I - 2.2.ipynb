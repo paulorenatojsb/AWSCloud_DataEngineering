{
 "cells": [
  {
   "cell_type": "code",
   "execution_count": 2,
   "id": "199b7090-93d0-491d-80ee-d90b4d428650",
   "metadata": {},
   "outputs": [
    {
     "name": "stdout",
     "output_type": "stream",
     "text": [
      "[1, 2, 3, 5, 8, 14]\n"
     ]
    }
   ],
   "source": [
    "# Exercício de programação 6: Exercícios Parte 2\n",
    "# Listas fornecidas\n",
    "a = [1, 1, 2, 3, 5, 8, 14, 21, 34, 55, 89]\n",
    "b = [1, 2, 3, 4, 5, 6, 7, 8, 9, 10, 11, 12, 13, 14, 15]\n",
    "\n",
    "# Converter as listas em conjuntos e calcular a interseção\n",
    "intersecao = list(set(a) & set(b))\n",
    "\n",
    "# Imprimir a lista de valores em comum\n",
    "print(intersecao)"
   ]
  },
  {
   "cell_type": "code",
   "execution_count": 4,
   "id": "f9e208ec-2381-49b3-b3b0-118a4ce3a862",
   "metadata": {},
   "outputs": [
    {
     "name": "stdout",
     "output_type": "stream",
     "text": [
      "[1, 9, 25, 49, 81]\n"
     ]
    }
   ],
   "source": [
    "# Exercício de programação 7: Exercícios Parte 2\n",
    "# Lista fornecida\n",
    "a = [1, 4, 9, 16, 25, 36, 49, 64, 81, 100]\n",
    "\n",
    "# Gerar uma nova lista contendo apenas os números ímpares\n",
    "impares = [numero for numero in a if numero % 2 != 0]\n",
    "\n",
    "# Imprimir a nova lista\n",
    "print(impares)"
   ]
  },
  {
   "cell_type": "code",
   "execution_count": 5,
   "id": "cd18b565-703a-4957-a02a-3d684715b26e",
   "metadata": {},
   "outputs": [
    {
     "name": "stdout",
     "output_type": "stream",
     "text": [
      "A palavra: maça não é um palíndromo\n",
      "A palavra: arara é um palíndromo\n",
      "A palavra: audio não é um palíndromo\n",
      "A palavra: radio não é um palíndromo\n",
      "A palavra: radar é um palíndromo\n",
      "A palavra: moto não é um palíndromo\n"
     ]
    }
   ],
   "source": [
    "# Exercício de programação 8: Exercícios Parte 2\n",
    "# Lista de palavras fornecida\n",
    "palavras = ['maça', 'arara', 'audio', 'radio', 'radar', 'moto']\n",
    "\n",
    "# Verificar se cada palavra é um palíndromo\n",
    "for palavra in palavras:\n",
    "    if palavra == palavra[::-1]:  # Verifica se a palavra é igual ao seu reverso\n",
    "        print(f\"A palavra: {palavra} é um palíndromo\")\n",
    "    else:\n",
    "        print(f\"A palavra: {palavra} não é um palíndromo\")"
   ]
  },
  {
   "cell_type": "code",
   "execution_count": 6,
   "id": "98d0846f-16db-4c4f-a78e-aa470aecf061",
   "metadata": {},
   "outputs": [
    {
     "name": "stdout",
     "output_type": "stream",
     "text": [
      "0 - Joao Soares está com 19 anos\n",
      "1 - Douglas Souza está com 28 anos\n",
      "2 - Lucas Silveira está com 25 anos\n",
      "3 - José Pedreira está com 31 anos\n"
     ]
    }
   ],
   "source": [
    "# Exercício de programação 9: Exercícios Parte 2\n",
    "# Listas fornecidas\n",
    "primeirosNomes = ['Joao', 'Douglas', 'Lucas', 'José']\n",
    "sobreNomes = ['Soares', 'Souza', 'Silveira', 'Pedreira']\n",
    "idades = [19, 28, 25, 31]\n",
    "\n",
    "# Imprimir os dados no formato solicitado usando enumerate()\n",
    "for indice, (primeiroNome, sobreNome, idade) in enumerate(zip(primeirosNomes, sobreNomes, idades)):\n",
    "    print(f\"{indice} - {primeiroNome} {sobreNome} está com {idade} anos\")"
   ]
  },
  {
   "cell_type": "code",
   "execution_count": 7,
   "id": "2dab8f21-8b48-4ec9-8dbf-d7793b30f025",
   "metadata": {},
   "outputs": [
    {
     "name": "stdout",
     "output_type": "stream",
     "text": [
      "['123', 'abc']\n"
     ]
    }
   ],
   "source": [
    "# Exercício de programação 10: Exercícios Parte 2\n",
    "# Função para remover duplicados de uma lista\n",
    "def remover_duplicados(lista):\n",
    "    return list(set(lista))  # Converte a lista para um conjunto e depois volta para lista\n",
    "\n",
    "# Lista fornecida para teste\n",
    "lista_teste = ['abc', 'abc', 'abc', '123', 'abc', '123', '123']\n",
    "\n",
    "# Chamar a função e armazenar o resultado\n",
    "lista_sem_duplicados = remover_duplicados(lista_teste)\n",
    "\n",
    "# Imprimir o resultado\n",
    "print(lista_sem_duplicados)"
   ]
  },
  {
   "cell_type": "code",
   "execution_count": null,
   "id": "969c27da-0b32-441f-87c0-a8e0ac0cfc58",
   "metadata": {},
   "outputs": [],
   "source": [
    "# Exercício de programação 11: Exercícios Parte 2\n",
    "\n",
    "import json\n",
    "\n",
    "# Leitura do arquivo JSON\n",
    "with open(\"person.json\", \"r\") as json_file:\n",
    "    person_data = json.load(json_file)\n",
    "\n",
    "# Impressão do JSON como dicionário (formato esperado)\n",
    "print(person_data)\n"
   ]
  },
  {
   "cell_type": "code",
   "execution_count": 9,
   "id": "0d06bed0-138f-46a2-a1e0-6c28711af7dd",
   "metadata": {},
   "outputs": [
    {
     "name": "stdout",
     "output_type": "stream",
     "text": [
      "[1, 4, 9, 16, 25, 36, 49, 64, 81, 100]\n"
     ]
    }
   ],
   "source": [
    "# Exercício de programação 12: Exercícios Parte 2\n",
    "# Implementação da função my_map\n",
    "def my_map(lista, funcao):\n",
    "    return [funcao(elemento) for elemento in lista]  # Aplica a função a cada elemento da lista\n",
    "\n",
    "# Função para elevar um número à potência de 2\n",
    "def potencia_de_2(x):\n",
    "    return x ** 2\n",
    "\n",
    "# Lista de entrada para teste\n",
    "entrada = [1, 2, 3, 4, 5, 6, 7, 8, 9, 10]\n",
    "\n",
    "# Usando my_map para aplicar a função potencia_de_2\n",
    "resultado = my_map(entrada, potencia_de_2)\n",
    "\n",
    "# Imprimir o resultado\n",
    "print(resultado)"
   ]
  },
  {
   "cell_type": "code",
   "execution_count": 10,
   "id": "453fed48-cc05-4d83-a4a8-49b9bae832bf",
   "metadata": {},
   "outputs": [
    {
     "ename": "FileNotFoundError",
     "evalue": "[Errno 2] No such file or directory: 'arquivo_texto.txt'",
     "output_type": "error",
     "traceback": [
      "\u001b[1;31m---------------------------------------------------------------------------\u001b[0m",
      "\u001b[1;31mFileNotFoundError\u001b[0m                         Traceback (most recent call last)",
      "Cell \u001b[1;32mIn[10], line 3\u001b[0m\n\u001b[0;32m      1\u001b[0m \u001b[38;5;66;03m# Exercício de programação 13: Exercícios Parte 2\u001b[39;00m\n\u001b[0;32m      2\u001b[0m \u001b[38;5;66;03m# Abrir o arquivo no modo de leitura\u001b[39;00m\n\u001b[1;32m----> 3\u001b[0m \u001b[38;5;28;01mwith\u001b[39;00m \u001b[38;5;28;43mopen\u001b[39;49m\u001b[43m(\u001b[49m\u001b[38;5;124;43m\"\u001b[39;49m\u001b[38;5;124;43marquivo_texto.txt\u001b[39;49m\u001b[38;5;124;43m\"\u001b[39;49m\u001b[43m,\u001b[49m\u001b[43m \u001b[49m\u001b[38;5;124;43m\"\u001b[39;49m\u001b[38;5;124;43mr\u001b[39;49m\u001b[38;5;124;43m\"\u001b[39;49m\u001b[43m)\u001b[49m \u001b[38;5;28;01mas\u001b[39;00m arquivo:\n\u001b[0;32m      4\u001b[0m     conteudo \u001b[38;5;241m=\u001b[39m arquivo\u001b[38;5;241m.\u001b[39mread()  \u001b[38;5;66;03m# Ler o conteúdo do arquivo\u001b[39;00m\n\u001b[0;32m      6\u001b[0m \u001b[38;5;66;03m# Imprimir o conteúdo do arquivo sem adicionar uma nova linha\u001b[39;00m\n",
      "File \u001b[1;32m~\\AppData\\Local\\Programs\\Python\\Python313\\Lib\\site-packages\\IPython\\core\\interactiveshell.py:324\u001b[0m, in \u001b[0;36m_modified_open\u001b[1;34m(file, *args, **kwargs)\u001b[0m\n\u001b[0;32m    317\u001b[0m \u001b[38;5;28;01mif\u001b[39;00m file \u001b[38;5;129;01min\u001b[39;00m {\u001b[38;5;241m0\u001b[39m, \u001b[38;5;241m1\u001b[39m, \u001b[38;5;241m2\u001b[39m}:\n\u001b[0;32m    318\u001b[0m     \u001b[38;5;28;01mraise\u001b[39;00m \u001b[38;5;167;01mValueError\u001b[39;00m(\n\u001b[0;32m    319\u001b[0m         \u001b[38;5;124mf\u001b[39m\u001b[38;5;124m\"\u001b[39m\u001b[38;5;124mIPython won\u001b[39m\u001b[38;5;124m'\u001b[39m\u001b[38;5;124mt let you open fd=\u001b[39m\u001b[38;5;132;01m{\u001b[39;00mfile\u001b[38;5;132;01m}\u001b[39;00m\u001b[38;5;124m by default \u001b[39m\u001b[38;5;124m\"\u001b[39m\n\u001b[0;32m    320\u001b[0m         \u001b[38;5;124m\"\u001b[39m\u001b[38;5;124mas it is likely to crash IPython. If you know what you are doing, \u001b[39m\u001b[38;5;124m\"\u001b[39m\n\u001b[0;32m    321\u001b[0m         \u001b[38;5;124m\"\u001b[39m\u001b[38;5;124myou can use builtins\u001b[39m\u001b[38;5;124m'\u001b[39m\u001b[38;5;124m open.\u001b[39m\u001b[38;5;124m\"\u001b[39m\n\u001b[0;32m    322\u001b[0m     )\n\u001b[1;32m--> 324\u001b[0m \u001b[38;5;28;01mreturn\u001b[39;00m \u001b[43mio_open\u001b[49m\u001b[43m(\u001b[49m\u001b[43mfile\u001b[49m\u001b[43m,\u001b[49m\u001b[43m \u001b[49m\u001b[38;5;241;43m*\u001b[39;49m\u001b[43margs\u001b[49m\u001b[43m,\u001b[49m\u001b[43m \u001b[49m\u001b[38;5;241;43m*\u001b[39;49m\u001b[38;5;241;43m*\u001b[39;49m\u001b[43mkwargs\u001b[49m\u001b[43m)\u001b[49m\n",
      "\u001b[1;31mFileNotFoundError\u001b[0m: [Errno 2] No such file or directory: 'arquivo_texto.txt'"
     ]
    }
   ],
   "source": [
    "# Exercício de programação 13: Exercícios Parte 2\n",
    "# Abrir o arquivo no modo de leitura\n",
    "with open(\"arquivo_texto.txt\", \"r\") as arquivo:\n",
    "    conteudo = arquivo.read()  # Ler o conteúdo do arquivo\n",
    "\n",
    "# Imprimir o conteúdo do arquivo sem adicionar uma nova linha\n",
    "print(conteudo, end=\"\")"
   ]
  },
  {
   "cell_type": "code",
   "execution_count": 11,
   "id": "2c9cef6e-0d8c-4b84-ab77-c909fa2a9a83",
   "metadata": {},
   "outputs": [
    {
     "name": "stdout",
     "output_type": "stream",
     "text": [
      "1\n",
      "3\n",
      "4\n",
      "hello\n",
      "alguma coisa\n",
      "20\n"
     ]
    }
   ],
   "source": [
    "# Exercício de programação 14: Exercícios Parte 2\n",
    "# Função para imprimir todos os parâmetros recebidos\n",
    "def imprimir_parametros(*args, **kwargs):\n",
    "    for arg in args:\n",
    "        print(arg)\n",
    "    for valor in kwargs.values():\n",
    "        print(valor)\n",
    "\n",
    "# Testando a função com os parâmetros fornecidos\n",
    "imprimir_parametros(1, 3, 4, 'hello', parametro_nomeado='alguma coisa', x=20)"
   ]
  },
  {
   "cell_type": "code",
   "execution_count": 12,
   "id": "17c7c3ea-fcd4-48c1-a225-444562d919ef",
   "metadata": {},
   "outputs": [
    {
     "name": "stdout",
     "output_type": "stream",
     "text": [
      "A lâmpada está ligada? True\n",
      "A lâmpada ainda está ligada? False\n"
     ]
    }
   ],
   "source": [
    "# Exercício de programação 15: Exercícios Parte 2\n",
    "class Lampada:\n",
    "    def __init__(self, ligada: bool):\n",
    "        \"\"\"Inicializa a lâmpada com o estado fornecido.\"\"\"\n",
    "        self.ligada = ligada\n",
    "\n",
    "    def liga(self):\n",
    "        \"\"\"Liga a lâmpada.\"\"\"\n",
    "        self.ligada = True\n",
    "\n",
    "    def desliga(self):\n",
    "        \"\"\"Desliga a lâmpada.\"\"\"\n",
    "        self.ligada = False\n",
    "\n",
    "    def esta_ligada(self):\n",
    "        \"\"\"Retorna o estado atual da lâmpada.\"\"\"\n",
    "        return self.ligada\n",
    "\n",
    "\n",
    "# Testando a classe Lampada\n",
    "lampada = Lampada(False)  # Inicialmente desligada\n",
    "\n",
    "# Ligar a lâmpada\n",
    "lampada.liga()\n",
    "print(f\"A lâmpada está ligada? {lampada.esta_ligada()}\")  # Deve imprimir True\n",
    "\n",
    "# Desligar a lâmpada\n",
    "lampada.desliga()\n",
    "print(f\"A lâmpada ainda está ligada? {lampada.esta_ligada()}\")  # Deve imprimir False"
   ]
  },
  {
   "cell_type": "code",
   "execution_count": 13,
   "id": "58ed2ba5-7067-4118-a1e0-6e8d26e75efb",
   "metadata": {},
   "outputs": [
    {
     "name": "stdout",
     "output_type": "stream",
     "text": [
      "100\n"
     ]
    }
   ],
   "source": [
    "# Exercício de programação 16: Exercícios Parte 2\n",
    "# Função para somar números em uma string separada por vírgulas\n",
    "def soma_numeros(numeros: str) -> int:\n",
    "    return sum(int(numero) for numero in numeros.split(','))\n",
    "\n",
    "# String fornecida\n",
    "numeros_str = \"1,3,4,6,10,76\"\n",
    "\n",
    "# Chamar a função e calcular a soma\n",
    "resultado = soma_numeros(numeros_str)\n",
    "\n",
    "# Imprimir apenas o resultado da soma\n",
    "print(resultado)"
   ]
  },
  {
   "cell_type": "code",
   "execution_count": 16,
   "id": "4e2851b3-7fdd-45e0-a2cb-53c9edc9634a",
   "metadata": {},
   "outputs": [
    {
     "name": "stdout",
     "output_type": "stream",
     "text": [
      "[1, 2, 3, 4] [5, 6, 7, 8] [9, 10, 11, 12]\n"
     ]
    }
   ],
   "source": [
    "# Exercício de programação 17: Exercícios Parte 2\n",
    "# Função para dividir uma lista em 3 partes iguais\n",
    "def dividir_lista_em_tres(lista):\n",
    "    tamanho = len(lista) // 3  # Tamanho de cada parte\n",
    "    return lista[:tamanho], lista[tamanho:2*tamanho], lista[2*tamanho:]\n",
    "\n",
    "# Lista fornecida\n",
    "lista = [1, 2, 3, 4, 5, 6, 7, 8, 9, 10, 11, 12]\n",
    "\n",
    "# Testando a função\n",
    "parte1, parte2, parte3 = dividir_lista_em_tres(lista)\n",
    "\n",
    "# Imprimir cada parte em uma nova linha\n",
    "print(parte1,parte2,parte3)\n"
   ]
  },
  {
   "cell_type": "code",
   "execution_count": 17,
   "id": "6f2301ac-64cb-4cba-b303-c31553b02cff",
   "metadata": {},
   "outputs": [
    {
     "name": "stdout",
     "output_type": "stream",
     "text": [
      "[44, 47, 52, 53, 54]\n"
     ]
    }
   ],
   "source": [
    "# Exercício de programação 18: Exercícios Parte 2\n",
    "# Dicionário fornecido\n",
    "speed = {'jan': 47, 'feb': 52, 'march': 47, 'April': 44, 'May': 52, 'June': 53, 'july': 54, 'Aug': 44, 'Sept': 54}\n",
    "\n",
    "# Obter todos os valores do dicionário e remover duplicados\n",
    "valores_unicos = list(set(speed.values()))\n",
    "\n",
    "# Imprimir a lista resultante\n",
    "print(valores_unicos)"
   ]
  },
  {
   "cell_type": "code",
   "execution_count": 19,
   "id": "26e59e17-64e6-464b-8abf-dfcd25a7312b",
   "metadata": {},
   "outputs": [
    {
     "name": "stdout",
     "output_type": "stream",
     "text": [
      "Media: 271.0, Mediana: 303.5, Mínimo: 16, Máximo: 491\n"
     ]
    }
   ],
   "source": [
    "# Exercício de programação 19: Exercícios Parte 2\n",
    "\n",
    "import random\n",
    "\n",
    "# Gerar uma amostra aleatória de 50 números do intervalo 0...500\n",
    "random_list = random.sample(range(500), 50)\n",
    "\n",
    "# Ordenar a lista para cálculo da mediana\n",
    "sorted_list = sorted(random_list)\n",
    "\n",
    "# Calcular os valores\n",
    "valor_minimo = min(random_list)\n",
    "valor_maximo = max(random_list)\n",
    "media = sum(random_list) / len(random_list)\n",
    "\n",
    "# Calcular a mediana\n",
    "meio = len(sorted_list) // 2\n",
    "if len(sorted_list) % 2 == 0:\n",
    "    mediana = (sorted_list[meio - 1] + sorted_list[meio]) / 2\n",
    "else:\n",
    "    mediana = sorted_list[meio]\n",
    "\n",
    "# Imprimir os resultados formatados em uma única linha\n",
    "print(f\"Media: {media}, Mediana: {mediana}, Mínimo: {valor_minimo}, Máximo: {valor_maximo}\")"
   ]
  },
  {
   "cell_type": "code",
   "execution_count": 20,
   "id": "71a589b3-3934-4be1-bfe2-5b83d1f7d224",
   "metadata": {},
   "outputs": [
    {
     "name": "stdout",
     "output_type": "stream",
     "text": [
      "[89, 55, 34, 21, 13, 8, 5, 3, 2, 0, 1]\n"
     ]
    }
   ],
   "source": [
    "# Exercício de programação 20: Exercícios Parte 2\n",
    "# Lista fornecida\n",
    "a = [1, 0, 2, 3, 5, 8, 13, 21, 34, 55, 89]\n",
    "\n",
    "# Imprimir a lista invertida\n",
    "print(a[::-1])"
   ]
  },
  {
   "cell_type": "code",
   "execution_count": 21,
   "id": "653368c0-7932-4594-a4ec-11843d239d30",
   "metadata": {},
   "outputs": [
    {
     "name": "stdout",
     "output_type": "stream",
     "text": [
      "Pato\n",
      "Voando...\n",
      "Pato emitindo som...\n",
      "Quack Quack\n",
      "\n",
      "Pardal\n",
      "Voando...\n",
      "Pardal emitindo som...\n",
      "Piu Piu\n"
     ]
    }
   ],
   "source": [
    "# Exercício de programação 21: Exercícios Parte 1\n",
    "# Superclasse Passaro\n",
    "class Passaro:\n",
    "    def voar(self):\n",
    "        print(\"Voando...\")\n",
    "\n",
    "    def emitir_som(self):\n",
    "        raise NotImplementedError(\"Este método deve ser implementado pelas subclasses.\")\n",
    "\n",
    "# Subclasse Pato\n",
    "class Pato(Passaro):\n",
    "    def emitir_som(self):\n",
    "        print(\"Pato emitindo som...\")\n",
    "        print(\"Quack Quack\")\n",
    "\n",
    "# Subclasse Pardal\n",
    "class Pardal(Passaro):\n",
    "    def emitir_som(self):\n",
    "        print(\"Pardal emitindo som...\")\n",
    "        print(\"Piu Piu\")\n",
    "\n",
    "# Instanciar e testar as classes\n",
    "print(\"Pato\")\n",
    "pato = Pato()\n",
    "pato.voar()\n",
    "pato.emitir_som()\n",
    "\n",
    "print(\"\\nPardal\")\n",
    "pardal = Pardal()\n",
    "pardal.voar()\n",
    "pardal.emitir_som()"
   ]
  },
  {
   "cell_type": "code",
   "execution_count": 23,
   "id": "64aa51b5-e780-4995-8fba-0237195ec13f",
   "metadata": {},
   "outputs": [
    {
     "name": "stdout",
     "output_type": "stream",
     "text": [
      "Paulo Renato Braga\n"
     ]
    }
   ],
   "source": [
    "# Exercício de programação 22: Exercícios Parte 1\n",
    "\n",
    "class Pessoa:\n",
    "    def __init__(self, id):\n",
    "        \"\"\"Inicializa a classe com o atributo público id e o privado __nome.\"\"\"\n",
    "        self.id = id\n",
    "        self.__nome = None\n",
    "\n",
    "    @property\n",
    "    def nome(self):\n",
    "        \"\"\"Getter para o atributo privado __nome.\"\"\"\n",
    "        return self.__nome\n",
    "\n",
    "    @nome.setter\n",
    "    def nome(self, valor):\n",
    "        \"\"\"Setter para o atributo privado __nome.\"\"\"\n",
    "        self.__nome = valor\n",
    "\n",
    "\n",
    "# Exemplo de uso\n",
    "pessoa = Pessoa(0)\n",
    "pessoa.nome = 'Paulo Renato Braga'\n",
    "print(pessoa.nome)"
   ]
  },
  {
   "cell_type": "code",
   "execution_count": 25,
   "id": "ec34b4f3-23ab-468b-ad43-2c2cd9d57a71",
   "metadata": {},
   "outputs": [
    {
     "name": "stdout",
     "output_type": "stream",
     "text": [
      "Somando: 4+5 = 9\n",
      "Subtraindo: 4-5 = -1\n"
     ]
    }
   ],
   "source": [
    "# Exercício de programação 23: Exercícios Parte 1\n",
    "\n",
    "class Calculo:\n",
    "    def soma(self, x, y):\n",
    "        \"\"\"Retorna a soma de x e y.\"\"\"\n",
    "        return x + y\n",
    "\n",
    "    def subtracao(self, x, y):\n",
    "        \"\"\"Retorna a subtração de x e y.\"\"\"\n",
    "        return x - y\n",
    "\n",
    "\n",
    "# Valores para teste\n",
    "x = 4\n",
    "y = 5\n",
    "\n",
    "# Criar uma instância da classe Calculo\n",
    "calc = Calculo()\n",
    "\n",
    "# Testar os métodos de soma e subtração\n",
    "soma_resultado = calc.soma(x, y)\n",
    "subtracao_resultado = calc.subtracao(x, y)\n",
    "\n",
    "# Imprimir os resultados\n",
    "print(f\"Somando: {x}+{y} = {soma_resultado}\")\n",
    "print(f\"Subtraindo: {x}-{y} = {subtracao_resultado}\")"
   ]
  },
  {
   "cell_type": "code",
   "execution_count": 27,
   "id": "83475eb6-a27a-4b84-8245-0b0574476706",
   "metadata": {},
   "outputs": [
    {
     "name": "stdout",
     "output_type": "stream",
     "text": [
      "[1, 2, 3, 4, 5]\n",
      "[9, 8, 7, 6]\n"
     ]
    }
   ],
   "source": [
    "# Exercício de programação 24: Exercícios Parte 1\n",
    "\n",
    "class Ordenadora:\n",
    "    def __init__(self, listaBaguncada):\n",
    "        \"\"\"Inicializa o objeto com a lista desordenada.\"\"\"\n",
    "        self.listaBaguncada = listaBaguncada\n",
    "\n",
    "    def ordenacaoCrescente(self):\n",
    "        \"\"\"Retorna a lista ordenada em ordem crescente.\"\"\"\n",
    "        return sorted(self.listaBaguncada)\n",
    "\n",
    "    def ordenacaoDecrescente(self):\n",
    "        \"\"\"Retorna a lista ordenada em ordem decrescente.\"\"\"\n",
    "        return sorted(self.listaBaguncada, reverse=True)\n",
    "\n",
    "\n",
    "# Instanciar o objeto crescente com a lista [3, 4, 2, 1, 5]\n",
    "crescente = Ordenadora([3, 4, 2, 1, 5])\n",
    "resultado_crescente = crescente.ordenacaoCrescente()\n",
    "\n",
    "# Instanciar o objeto decrescente com a lista [9, 7, 6, 8]\n",
    "decrescente = Ordenadora([9, 7, 6, 8])\n",
    "resultado_decrescente = decrescente.ordenacaoDecrescente()\n",
    "\n",
    "# Imprimir os resultados\n",
    "print(resultado_crescente)\n",
    "print(resultado_decrescente)"
   ]
  },
  {
   "cell_type": "code",
   "execution_count": 28,
   "id": "4a1202a1-6124-4c56-b311-59acc65ae005",
   "metadata": {},
   "outputs": [
    {
     "name": "stdout",
     "output_type": "stream",
     "text": [
      "O avião de modelo BOIENG456 possui uma velocidade máxima de 1500 km/h, capacidade para 400 passageiros e é da cor Azul.\n",
      "O avião de modelo Embraer Praetor 600 possui uma velocidade máxima de 863 km/h, capacidade para 14 passageiros e é da cor Azul.\n",
      "O avião de modelo Antonov An-2 possui uma velocidade máxima de 258 km/h, capacidade para 12 passageiros e é da cor Azul.\n"
     ]
    }
   ],
   "source": [
    "# Exercício de programação 25: Exercícios Parte 1\n",
    "\n",
    "class Aviao:\n",
    "    # Definindo a cor como atributo de classe (compartilhado entre todas as instâncias)\n",
    "    cor = \"Azul\"\n",
    "\n",
    "    def __init__(self, modelo, velocidade_maxima, capacidade):\n",
    "        \"\"\"Inicializa os atributos da instância.\"\"\"\n",
    "        self.modelo = modelo\n",
    "        self.velocidade_maxima = velocidade_maxima\n",
    "        self.capacidade = capacidade\n",
    "\n",
    "    def __str__(self):\n",
    "        \"\"\"Define a representação em string do objeto.\"\"\"\n",
    "        return (f\"O avião de modelo {self.modelo} possui uma velocidade máxima de {self.velocidade_maxima} km/h, \"\n",
    "                f\"capacidade para {self.capacidade} passageiros e é da cor {self.cor}.\")\n",
    "\n",
    "\n",
    "# Criando a lista de aviões com os dados fornecidos\n",
    "avioes = [\n",
    "    Aviao(\"BOIENG456\", 1500, 400),\n",
    "    Aviao(\"Embraer Praetor 600\", 863, 14),\n",
    "    Aviao(\"Antonov An-2\", 258, 12)\n",
    "]\n",
    "\n",
    "# Iterar pela lista e imprimir as informações\n",
    "for aviao in avioes:\n",
    "    print(aviao)"
   ]
  }
 ],
 "metadata": {
  "kernelspec": {
   "display_name": "Python 3 (ipykernel)",
   "language": "python",
   "name": "python3"
  },
  "language_info": {
   "codemirror_mode": {
    "name": "ipython",
    "version": 3
   },
   "file_extension": ".py",
   "mimetype": "text/x-python",
   "name": "python",
   "nbconvert_exporter": "python",
   "pygments_lexer": "ipython3",
   "version": "3.13.0"
  }
 },
 "nbformat": 4,
 "nbformat_minor": 5
}
